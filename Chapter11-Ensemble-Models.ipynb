{
 "cells": [
  {
   "cell_type": "markdown",
   "metadata": {},
   "source": [
    "# Ensemble Models\n",
    "\n",
    "A natural and tempting alternative is to **combine** several algorithms (or the predictions that result from them) to try to extract value out of each engine (or learner). This intention is not new and contributions towards this goal go back at least to Bates and Granger (1969).\n",
    "\n",
    "Below we outline a few books on the topic of *ensembles*, or synonyms, such as **forecast aggregation, model averaging, mixture of experts or prediction combination**:\n",
    "- Zhou (2012): a very didactic book that covers the main ideas of ensembles\n",
    "- Schapire and Freund (2012): the main reference for boosting (and hence, ensembling) with many theoretical results and thus strong mathematical groundings;\n",
    "- Seni and Elder (2010): an introduction dedicated to tree methods mainly;\n",
    "- Claeskens and Hjort (2008): an overview of model selection techniques with a few chapters focused on model averaging;\n",
    "- Zhang and Ma (2012): a collection of thematic chapters on ensemble learning;\n",
    "- Okun et al. (2011): examples of applications of ensembles.\n",
    "\n",
    "In this chapter, we cover the basic ideas and concepts behind the notion of ensembles. For deeper treatments, you may refer to the above books (indeed, random forests and boosted trees discussed in Chapter 6 are examples of ensembles)."
   ]
  },
  {
   "cell_type": "markdown",
   "metadata": {},
   "source": [
    "## Linear Ensembles\n",
    "\n",
    "### Principles\n",
    "\n",
    "In this chapter we adopt the following notations. We work with \n",
    "- $M$ models where $\\tilde{y}_{i,m}$ is the prediction of model $m$ for instance $i$ and \n",
    "- Errors $\\epsilon_{i,m}=y_i-\\tilde{y}_{i,m}$ are stacked into a $(I \\times M)$ matrix $\\textbf{E}$\n",
    "- A linear combination of models has sample error equal to $\\textbf{Ew}$, where $\\textbf{w}=w_m$ are weights assigned to each model such that $\\textbf{w}'\\textbf{1}_M=1$.\n",
    "- Minimize the total (squared) error is thus a simple quadratic program with unique constraint. The Lagrange function is $L(\\textbf{w})=\\textbf{w}'\\textbf{E}'\\textbf{Ew}-\\lambda(\\textbf{w}'\\textbf{1}_M-1)$ and hence $$\\frac{\\partial}{\\partial \\textbf{w}}L(\\textbf{w})=\\textbf{E}'\\textbf{E}\\textbf{w}-\\lambda \\textbf{1}_M=0 \\quad \\Leftrightarrow \\quad \\textbf{w}=\\lambda(\\textbf{E}'\\textbf{E})^{-1}\\textbf{1}_M$$\n",
    "and the constraint imposes that $$\\textbf{w}^*=\\frac{(\\textbf{E}'\\textbf{E})^{-1}\\textbf{1}_M}{(\\textbf{1}_M'\\textbf{E}'\\textbf{E})^{-1}\\textbf{1}_M}$$ This form is similar to that of minimum variance portfolios. If errors are unbiased $(\\textbf{1}_I'\\textbf{E}=\\textbf{0}_M')$, then $\\textbf{E}'\\textbf{E}$ is the covariance matrix of errors.\n",
    "\n",
    "This expression shows an important feature of optimized linear ensembles: they can only add value *if the models tell different stories*. If two models are redundant, $\\textbf{E}'\\textbf{E}$ will be close to singular and $\\textbf{w}^*$ will arbitrage one against the other in a spurious fashion. This is the exact same problem as when mean-variance portfolios are constituted with highly correlated assets: diversification will fail because when things go wrong, all assets go down.\n",
    "\n",
    "In the limit when correlations increase to 1, the above formulation becomes highly unstable and ensembles cannot be trusted. One heuristic way to see this is when $M=2$ and\n",
    "$$\\textbf{E}'\\textbf{E}=\\left[\n",
    "\\begin{array}{cc} \\sigma_1^2 & \\rho\\sigma_1\\sigma_2 \\\\\n",
    "\\rho\\sigma_1\\sigma_2 & \\sigma_2^2 \\\\\n",
    "\\end{array}\n",
    "\\right] \\quad \\Leftrightarrow  \\quad \n",
    "(\\textbf{E}'\\textbf{E})^{-1}=\\frac{1}{1-\\rho^2}\\left[\n",
    "\\begin{array}{cc} \\sigma_1^{-2} & -\\rho(\\sigma_1\\sigma_2)^{-1} \\\\\n",
    "-\\rho(\\sigma_1\\sigma_2)^{-1} & \\sigma_2^{-2} \\\\\n",
    "\\end{array}\n",
    "\\right]$$\n",
    "so that when $\\rho \\rightarrow 1$, the model with minimum $\\sigma_i^2$ will see its weights towards *infinity* while the model model will have a similarly large **negative weight**: the model arbitrage between them. That seems like a very bad idea.\n",
    "\n",
    "There is another illustration of the issues caused by correlations. Let’s assume we face $M$ correlated errors $\\epsilon_m$ with pairwise correlation $\\rho$, zero mean and variance $\\sigma^2$. The variance of errors is \n",
    "\\begin{align*}\n",
    "\\mathbb{E}\\left[\\frac{1}{M}\\sum_{m=1}^M \\epsilon_m^2 \\right]&=\\frac{1}{M^2}\\left[\\sum_{m=1}^M\\epsilon_m^2+\\sum_{m\\neq n}\\epsilon_n\\epsilon_m\\right] \\\\\n",
    "&=\\frac{\\sigma^2}{M}+\\frac{1}{M^2}\\sum_{n\\neq m} \\rho \\sigma^2 \\\\\n",
    "& =\\rho \\sigma^2 +\\frac{\\sigma^2(1-\\rho)}{M}\n",
    "\\end{align*}\n",
    "where while the second term converges to 0 as $M$ increases, the *first* term remains and is **linearly increasing** with $\\rho$. In passing, because variances are always positive, this result implies that the *common pairwise correlation between $M$ variables is bounded below by $-(M-1)^{-1}$*. This result is interesting but rarely found in textbooks.\n",
    "\n",
    "One improvement to circumvent this is to *enforce positivity constraints* on the weights (by Breiman, 1996):\n",
    "$$\\underset{\\textbf{w}}{\\text{argmin}} \\ \\textbf{w}'\\textbf{E}'\\textbf{E}\\textbf{w} , \\quad \\text{s.t.} \\quad \\left\\{ \n",
    "\\begin{array}{l} \\textbf{w}'\\textbf{1}_M=1 \\\\ w_m \\ge 0 \\quad \\forall m \\end{array}\\right.$$\n",
    "\n",
    "Mechanically, if several models are highly correlated, the constraint will impose that only one of them will have a non-zero weight - *selection* of models. Jagannathan and Ma (2003) have shown the benefits of this constraint in portfolio optimization and construction of mean-variance allocations, and also of use to select *best* models in our case.\n",
    "\n",
    "Some literature regarding forecast combination and model averaging (ensembles):\n",
    "- Von Holstein (1972)\n",
    "- Trimmed opinion pools compute *averages* over the predictions that are not too extreme (Grushka-Cockayne et al., 2016)\n",
    "- Gaba et al. for a exhaustive list of combinations as well as an empirical study of their respective efficiency\n",
    "\n",
    "Overall, findings are mixed and the heuristic simple average is, as usual, hard to beat. (see, e.g., Genre et al., 2013)"
   ]
  },
  {
   "cell_type": "markdown",
   "metadata": {},
   "source": [
    "### Example\n",
    "\n",
    "In order to build an example, we will gather some predictions and the corresponding errors into the $\\textbf{E}$ matrix.\n",
    "\n",
    "We will work with 5 models trained in previous chapters:\n",
    "1. Penalized regression\n",
    "2. Simple tree\n",
    "3. Random forest\n",
    "4. XGBoost\n",
    "5. Feed-forward neural network\n",
    "\n",
    "The training errors have zero means, hence $\\textbf{E}'\\textbf{E}$ is the covariance matrix of errors between the models."
   ]
  },
  {
   "cell_type": "code",
   "execution_count": 1,
   "metadata": {},
   "outputs": [],
   "source": [
    "import numpy as np\n",
    "import pandas as pd\n",
    "\n",
    "data_ml = pd.read_pickle('./data/data_ml.pkl')\n",
    "separation_date = pd.to_datetime('2014-01-15')\n",
    "\n",
    "training_sample = data_ml[data_ml['date'] < separation_date]\n",
    "test_sample = data_ml[data_ml['date'] > separation_date]"
   ]
  },
  {
   "cell_type": "code",
   "execution_count": 2,
   "metadata": {},
   "outputs": [],
   "source": [
    "from sklearn.linear_model import ElasticNet\n",
    "\n",
    "features = data_ml.columns[2:95]\n",
    "y_train = training_sample['R1M_Usd']\n",
    "X_train = training_sample[features]\n",
    "\n",
    "fit_pen_pred = ElasticNet(alpha = 0.1, l1_ratio = 0.1).fit(X_train, y_train)"
   ]
  },
  {
   "cell_type": "code",
   "execution_count": 3,
   "metadata": {},
   "outputs": [
    {
     "data": {
      "text/html": [
       "<style>#sk-container-id-1 {color: black;}#sk-container-id-1 pre{padding: 0;}#sk-container-id-1 div.sk-toggleable {background-color: white;}#sk-container-id-1 label.sk-toggleable__label {cursor: pointer;display: block;width: 100%;margin-bottom: 0;padding: 0.3em;box-sizing: border-box;text-align: center;}#sk-container-id-1 label.sk-toggleable__label-arrow:before {content: \"▸\";float: left;margin-right: 0.25em;color: #696969;}#sk-container-id-1 label.sk-toggleable__label-arrow:hover:before {color: black;}#sk-container-id-1 div.sk-estimator:hover label.sk-toggleable__label-arrow:before {color: black;}#sk-container-id-1 div.sk-toggleable__content {max-height: 0;max-width: 0;overflow: hidden;text-align: left;background-color: #f0f8ff;}#sk-container-id-1 div.sk-toggleable__content pre {margin: 0.2em;color: black;border-radius: 0.25em;background-color: #f0f8ff;}#sk-container-id-1 input.sk-toggleable__control:checked~div.sk-toggleable__content {max-height: 200px;max-width: 100%;overflow: auto;}#sk-container-id-1 input.sk-toggleable__control:checked~label.sk-toggleable__label-arrow:before {content: \"▾\";}#sk-container-id-1 div.sk-estimator input.sk-toggleable__control:checked~label.sk-toggleable__label {background-color: #d4ebff;}#sk-container-id-1 div.sk-label input.sk-toggleable__control:checked~label.sk-toggleable__label {background-color: #d4ebff;}#sk-container-id-1 input.sk-hidden--visually {border: 0;clip: rect(1px 1px 1px 1px);clip: rect(1px, 1px, 1px, 1px);height: 1px;margin: -1px;overflow: hidden;padding: 0;position: absolute;width: 1px;}#sk-container-id-1 div.sk-estimator {font-family: monospace;background-color: #f0f8ff;border: 1px dotted black;border-radius: 0.25em;box-sizing: border-box;margin-bottom: 0.5em;}#sk-container-id-1 div.sk-estimator:hover {background-color: #d4ebff;}#sk-container-id-1 div.sk-parallel-item::after {content: \"\";width: 100%;border-bottom: 1px solid gray;flex-grow: 1;}#sk-container-id-1 div.sk-label:hover label.sk-toggleable__label {background-color: #d4ebff;}#sk-container-id-1 div.sk-serial::before {content: \"\";position: absolute;border-left: 1px solid gray;box-sizing: border-box;top: 0;bottom: 0;left: 50%;z-index: 0;}#sk-container-id-1 div.sk-serial {display: flex;flex-direction: column;align-items: center;background-color: white;padding-right: 0.2em;padding-left: 0.2em;position: relative;}#sk-container-id-1 div.sk-item {position: relative;z-index: 1;}#sk-container-id-1 div.sk-parallel {display: flex;align-items: stretch;justify-content: center;background-color: white;position: relative;}#sk-container-id-1 div.sk-item::before, #sk-container-id-1 div.sk-parallel-item::before {content: \"\";position: absolute;border-left: 1px solid gray;box-sizing: border-box;top: 0;bottom: 0;left: 50%;z-index: -1;}#sk-container-id-1 div.sk-parallel-item {display: flex;flex-direction: column;z-index: 1;position: relative;background-color: white;}#sk-container-id-1 div.sk-parallel-item:first-child::after {align-self: flex-end;width: 50%;}#sk-container-id-1 div.sk-parallel-item:last-child::after {align-self: flex-start;width: 50%;}#sk-container-id-1 div.sk-parallel-item:only-child::after {width: 0;}#sk-container-id-1 div.sk-dashed-wrapped {border: 1px dashed gray;margin: 0 0.4em 0.5em 0.4em;box-sizing: border-box;padding-bottom: 0.4em;background-color: white;}#sk-container-id-1 div.sk-label label {font-family: monospace;font-weight: bold;display: inline-block;line-height: 1.2em;}#sk-container-id-1 div.sk-label-container {text-align: center;}#sk-container-id-1 div.sk-container {/* jupyter's `normalize.less` sets `[hidden] { display: none; }` but bootstrap.min.css set `[hidden] { display: none !important; }` so we also need the `!important` here to be able to override the default hidden behavior on the sphinx rendered scikit-learn.org. See: https://github.com/scikit-learn/scikit-learn/issues/21755 */display: inline-block !important;position: relative;}#sk-container-id-1 div.sk-text-repr-fallback {display: none;}</style><div id=\"sk-container-id-1\" class=\"sk-top-container\"><div class=\"sk-text-repr-fallback\"><pre>DecisionTreeRegressor(ccp_alpha=1e-06, max_depth=3, min_samples_leaf=3500,\n",
       "                      min_samples_split=8000)</pre><b>In a Jupyter environment, please rerun this cell to show the HTML representation or trust the notebook. <br />On GitHub, the HTML representation is unable to render, please try loading this page with nbviewer.org.</b></div><div class=\"sk-container\" hidden><div class=\"sk-item\"><div class=\"sk-estimator sk-toggleable\"><input class=\"sk-toggleable__control sk-hidden--visually\" id=\"sk-estimator-id-1\" type=\"checkbox\" checked><label for=\"sk-estimator-id-1\" class=\"sk-toggleable__label sk-toggleable__label-arrow\">DecisionTreeRegressor</label><div class=\"sk-toggleable__content\"><pre>DecisionTreeRegressor(ccp_alpha=1e-06, max_depth=3, min_samples_leaf=3500,\n",
       "                      min_samples_split=8000)</pre></div></div></div></div></div>"
      ],
      "text/plain": [
       "DecisionTreeRegressor(ccp_alpha=1e-06, max_depth=3, min_samples_leaf=3500,\n",
       "                      min_samples_split=8000)"
      ]
     },
     "execution_count": 3,
     "metadata": {},
     "output_type": "execute_result"
    }
   ],
   "source": [
    "from sklearn.tree import DecisionTreeRegressor\n",
    "fit_tree = DecisionTreeRegressor(min_samples_leaf = 3500, min_samples_split = 8000, max_depth = 3, ccp_alpha = 1e-6)\n",
    "fit_tree.fit(X_train, y_train)"
   ]
  },
  {
   "cell_type": "code",
   "execution_count": 4,
   "metadata": {},
   "outputs": [
    {
     "data": {
      "text/html": [
       "<style>#sk-container-id-2 {color: black;}#sk-container-id-2 pre{padding: 0;}#sk-container-id-2 div.sk-toggleable {background-color: white;}#sk-container-id-2 label.sk-toggleable__label {cursor: pointer;display: block;width: 100%;margin-bottom: 0;padding: 0.3em;box-sizing: border-box;text-align: center;}#sk-container-id-2 label.sk-toggleable__label-arrow:before {content: \"▸\";float: left;margin-right: 0.25em;color: #696969;}#sk-container-id-2 label.sk-toggleable__label-arrow:hover:before {color: black;}#sk-container-id-2 div.sk-estimator:hover label.sk-toggleable__label-arrow:before {color: black;}#sk-container-id-2 div.sk-toggleable__content {max-height: 0;max-width: 0;overflow: hidden;text-align: left;background-color: #f0f8ff;}#sk-container-id-2 div.sk-toggleable__content pre {margin: 0.2em;color: black;border-radius: 0.25em;background-color: #f0f8ff;}#sk-container-id-2 input.sk-toggleable__control:checked~div.sk-toggleable__content {max-height: 200px;max-width: 100%;overflow: auto;}#sk-container-id-2 input.sk-toggleable__control:checked~label.sk-toggleable__label-arrow:before {content: \"▾\";}#sk-container-id-2 div.sk-estimator input.sk-toggleable__control:checked~label.sk-toggleable__label {background-color: #d4ebff;}#sk-container-id-2 div.sk-label input.sk-toggleable__control:checked~label.sk-toggleable__label {background-color: #d4ebff;}#sk-container-id-2 input.sk-hidden--visually {border: 0;clip: rect(1px 1px 1px 1px);clip: rect(1px, 1px, 1px, 1px);height: 1px;margin: -1px;overflow: hidden;padding: 0;position: absolute;width: 1px;}#sk-container-id-2 div.sk-estimator {font-family: monospace;background-color: #f0f8ff;border: 1px dotted black;border-radius: 0.25em;box-sizing: border-box;margin-bottom: 0.5em;}#sk-container-id-2 div.sk-estimator:hover {background-color: #d4ebff;}#sk-container-id-2 div.sk-parallel-item::after {content: \"\";width: 100%;border-bottom: 1px solid gray;flex-grow: 1;}#sk-container-id-2 div.sk-label:hover label.sk-toggleable__label {background-color: #d4ebff;}#sk-container-id-2 div.sk-serial::before {content: \"\";position: absolute;border-left: 1px solid gray;box-sizing: border-box;top: 0;bottom: 0;left: 50%;z-index: 0;}#sk-container-id-2 div.sk-serial {display: flex;flex-direction: column;align-items: center;background-color: white;padding-right: 0.2em;padding-left: 0.2em;position: relative;}#sk-container-id-2 div.sk-item {position: relative;z-index: 1;}#sk-container-id-2 div.sk-parallel {display: flex;align-items: stretch;justify-content: center;background-color: white;position: relative;}#sk-container-id-2 div.sk-item::before, #sk-container-id-2 div.sk-parallel-item::before {content: \"\";position: absolute;border-left: 1px solid gray;box-sizing: border-box;top: 0;bottom: 0;left: 50%;z-index: -1;}#sk-container-id-2 div.sk-parallel-item {display: flex;flex-direction: column;z-index: 1;position: relative;background-color: white;}#sk-container-id-2 div.sk-parallel-item:first-child::after {align-self: flex-end;width: 50%;}#sk-container-id-2 div.sk-parallel-item:last-child::after {align-self: flex-start;width: 50%;}#sk-container-id-2 div.sk-parallel-item:only-child::after {width: 0;}#sk-container-id-2 div.sk-dashed-wrapped {border: 1px dashed gray;margin: 0 0.4em 0.5em 0.4em;box-sizing: border-box;padding-bottom: 0.4em;background-color: white;}#sk-container-id-2 div.sk-label label {font-family: monospace;font-weight: bold;display: inline-block;line-height: 1.2em;}#sk-container-id-2 div.sk-label-container {text-align: center;}#sk-container-id-2 div.sk-container {/* jupyter's `normalize.less` sets `[hidden] { display: none; }` but bootstrap.min.css set `[hidden] { display: none !important; }` so we also need the `!important` here to be able to override the default hidden behavior on the sphinx rendered scikit-learn.org. See: https://github.com/scikit-learn/scikit-learn/issues/21755 */display: inline-block !important;position: relative;}#sk-container-id-2 div.sk-text-repr-fallback {display: none;}</style><div id=\"sk-container-id-2\" class=\"sk-top-container\"><div class=\"sk-text-repr-fallback\"><pre>RandomForestRegressor(max_features=30, max_samples=10000, min_samples_split=250,\n",
       "                      n_estimators=40)</pre><b>In a Jupyter environment, please rerun this cell to show the HTML representation or trust the notebook. <br />On GitHub, the HTML representation is unable to render, please try loading this page with nbviewer.org.</b></div><div class=\"sk-container\" hidden><div class=\"sk-item\"><div class=\"sk-estimator sk-toggleable\"><input class=\"sk-toggleable__control sk-hidden--visually\" id=\"sk-estimator-id-2\" type=\"checkbox\" checked><label for=\"sk-estimator-id-2\" class=\"sk-toggleable__label sk-toggleable__label-arrow\">RandomForestRegressor</label><div class=\"sk-toggleable__content\"><pre>RandomForestRegressor(max_features=30, max_samples=10000, min_samples_split=250,\n",
       "                      n_estimators=40)</pre></div></div></div></div></div>"
      ],
      "text/plain": [
       "RandomForestRegressor(max_features=30, max_samples=10000, min_samples_split=250,\n",
       "                      n_estimators=40)"
      ]
     },
     "execution_count": 4,
     "metadata": {},
     "output_type": "execute_result"
    }
   ],
   "source": [
    "from sklearn.ensemble import RandomForestRegressor\n",
    "\n",
    "fit_rf = RandomForestRegressor(max_samples = 10000, \n",
    "                               n_estimators = 40,\n",
    "                               max_features = 30,\n",
    "                               min_samples_split = 250)\n",
    "fit_rf.fit(X_train, y_train)"
   ]
  },
  {
   "cell_type": "code",
   "execution_count": 5,
   "metadata": {},
   "outputs": [
    {
     "data": {
      "text/html": [
       "<style>#sk-container-id-3 {color: black;}#sk-container-id-3 pre{padding: 0;}#sk-container-id-3 div.sk-toggleable {background-color: white;}#sk-container-id-3 label.sk-toggleable__label {cursor: pointer;display: block;width: 100%;margin-bottom: 0;padding: 0.3em;box-sizing: border-box;text-align: center;}#sk-container-id-3 label.sk-toggleable__label-arrow:before {content: \"▸\";float: left;margin-right: 0.25em;color: #696969;}#sk-container-id-3 label.sk-toggleable__label-arrow:hover:before {color: black;}#sk-container-id-3 div.sk-estimator:hover label.sk-toggleable__label-arrow:before {color: black;}#sk-container-id-3 div.sk-toggleable__content {max-height: 0;max-width: 0;overflow: hidden;text-align: left;background-color: #f0f8ff;}#sk-container-id-3 div.sk-toggleable__content pre {margin: 0.2em;color: black;border-radius: 0.25em;background-color: #f0f8ff;}#sk-container-id-3 input.sk-toggleable__control:checked~div.sk-toggleable__content {max-height: 200px;max-width: 100%;overflow: auto;}#sk-container-id-3 input.sk-toggleable__control:checked~label.sk-toggleable__label-arrow:before {content: \"▾\";}#sk-container-id-3 div.sk-estimator input.sk-toggleable__control:checked~label.sk-toggleable__label {background-color: #d4ebff;}#sk-container-id-3 div.sk-label input.sk-toggleable__control:checked~label.sk-toggleable__label {background-color: #d4ebff;}#sk-container-id-3 input.sk-hidden--visually {border: 0;clip: rect(1px 1px 1px 1px);clip: rect(1px, 1px, 1px, 1px);height: 1px;margin: -1px;overflow: hidden;padding: 0;position: absolute;width: 1px;}#sk-container-id-3 div.sk-estimator {font-family: monospace;background-color: #f0f8ff;border: 1px dotted black;border-radius: 0.25em;box-sizing: border-box;margin-bottom: 0.5em;}#sk-container-id-3 div.sk-estimator:hover {background-color: #d4ebff;}#sk-container-id-3 div.sk-parallel-item::after {content: \"\";width: 100%;border-bottom: 1px solid gray;flex-grow: 1;}#sk-container-id-3 div.sk-label:hover label.sk-toggleable__label {background-color: #d4ebff;}#sk-container-id-3 div.sk-serial::before {content: \"\";position: absolute;border-left: 1px solid gray;box-sizing: border-box;top: 0;bottom: 0;left: 50%;z-index: 0;}#sk-container-id-3 div.sk-serial {display: flex;flex-direction: column;align-items: center;background-color: white;padding-right: 0.2em;padding-left: 0.2em;position: relative;}#sk-container-id-3 div.sk-item {position: relative;z-index: 1;}#sk-container-id-3 div.sk-parallel {display: flex;align-items: stretch;justify-content: center;background-color: white;position: relative;}#sk-container-id-3 div.sk-item::before, #sk-container-id-3 div.sk-parallel-item::before {content: \"\";position: absolute;border-left: 1px solid gray;box-sizing: border-box;top: 0;bottom: 0;left: 50%;z-index: -1;}#sk-container-id-3 div.sk-parallel-item {display: flex;flex-direction: column;z-index: 1;position: relative;background-color: white;}#sk-container-id-3 div.sk-parallel-item:first-child::after {align-self: flex-end;width: 50%;}#sk-container-id-3 div.sk-parallel-item:last-child::after {align-self: flex-start;width: 50%;}#sk-container-id-3 div.sk-parallel-item:only-child::after {width: 0;}#sk-container-id-3 div.sk-dashed-wrapped {border: 1px dashed gray;margin: 0 0.4em 0.5em 0.4em;box-sizing: border-box;padding-bottom: 0.4em;background-color: white;}#sk-container-id-3 div.sk-label label {font-family: monospace;font-weight: bold;display: inline-block;line-height: 1.2em;}#sk-container-id-3 div.sk-label-container {text-align: center;}#sk-container-id-3 div.sk-container {/* jupyter's `normalize.less` sets `[hidden] { display: none; }` but bootstrap.min.css set `[hidden] { display: none !important; }` so we also need the `!important` here to be able to override the default hidden behavior on the sphinx rendered scikit-learn.org. See: https://github.com/scikit-learn/scikit-learn/issues/21755 */display: inline-block !important;position: relative;}#sk-container-id-3 div.sk-text-repr-fallback {display: none;}</style><div id=\"sk-container-id-3\" class=\"sk-top-container\"><div class=\"sk-text-repr-fallback\"><pre>XGBRegressor(base_score=0.5, booster=&#x27;dart&#x27;, callbacks=None,\n",
       "             colsample_bylevel=1, colsample_bynode=1, colsample_bytree=0.7,\n",
       "             early_stopping_rounds=None, enable_categorical=False,\n",
       "             eval_metric=None, feature_types=None, gamma=0.1, gpu_id=-1,\n",
       "             grow_policy=&#x27;depthwise&#x27;, importance_type=None,\n",
       "             interaction_constraints=&#x27;&#x27;, learning_rate=0.3, max_bin=256,\n",
       "             max_cat_threshold=64, max_cat_to_onehot=4, max_delta_step=0,\n",
       "             max_depth=4, max_leaves=0, min_child_weight=1, missing=nan,\n",
       "             monotone_constraints=(0, 0, -1, 1, 0, -1, 0), n_estimators=30,\n",
       "             n_jobs=0, num_parallel_tree=1, predictor=&#x27;auto&#x27;, random_state=0, ...)</pre><b>In a Jupyter environment, please rerun this cell to show the HTML representation or trust the notebook. <br />On GitHub, the HTML representation is unable to render, please try loading this page with nbviewer.org.</b></div><div class=\"sk-container\" hidden><div class=\"sk-item\"><div class=\"sk-estimator sk-toggleable\"><input class=\"sk-toggleable__control sk-hidden--visually\" id=\"sk-estimator-id-3\" type=\"checkbox\" checked><label for=\"sk-estimator-id-3\" class=\"sk-toggleable__label sk-toggleable__label-arrow\">XGBRegressor</label><div class=\"sk-toggleable__content\"><pre>XGBRegressor(base_score=0.5, booster=&#x27;dart&#x27;, callbacks=None,\n",
       "             colsample_bylevel=1, colsample_bynode=1, colsample_bytree=0.7,\n",
       "             early_stopping_rounds=None, enable_categorical=False,\n",
       "             eval_metric=None, feature_types=None, gamma=0.1, gpu_id=-1,\n",
       "             grow_policy=&#x27;depthwise&#x27;, importance_type=None,\n",
       "             interaction_constraints=&#x27;&#x27;, learning_rate=0.3, max_bin=256,\n",
       "             max_cat_threshold=64, max_cat_to_onehot=4, max_delta_step=0,\n",
       "             max_depth=4, max_leaves=0, min_child_weight=1, missing=nan,\n",
       "             monotone_constraints=(0, 0, -1, 1, 0, -1, 0), n_estimators=30,\n",
       "             n_jobs=0, num_parallel_tree=1, predictor=&#x27;auto&#x27;, random_state=0, ...)</pre></div></div></div></div></div>"
      ],
      "text/plain": [
       "XGBRegressor(base_score=0.5, booster='dart', callbacks=None,\n",
       "             colsample_bylevel=1, colsample_bynode=1, colsample_bytree=0.7,\n",
       "             early_stopping_rounds=None, enable_categorical=False,\n",
       "             eval_metric=None, feature_types=None, gamma=0.1, gpu_id=-1,\n",
       "             grow_policy='depthwise', importance_type=None,\n",
       "             interaction_constraints='', learning_rate=0.3, max_bin=256,\n",
       "             max_cat_threshold=64, max_cat_to_onehot=4, max_delta_step=0,\n",
       "             max_depth=4, max_leaves=0, min_child_weight=1, missing=nan,\n",
       "             monotone_constraints=(0, 0, -1, 1, 0, -1, 0), n_estimators=30,\n",
       "             n_jobs=0, num_parallel_tree=1, predictor='auto', random_state=0, ...)"
      ]
     },
     "execution_count": 5,
     "metadata": {},
     "output_type": "execute_result"
    }
   ],
   "source": [
    "import xgboost as xgb\n",
    "\n",
    "mono_const = (0, 0, -1, 1, 0, -1, 0)\n",
    "fit_xgb = xgb.XGBRegressor(learning_rate = 0.3,\n",
    "                           max_depth = 4,\n",
    "                           subsample = 0.6,\n",
    "                           colsample_bytree = 0.7,\n",
    "                           reg_lambda = 1,\n",
    "                           gamma = 0.1,\n",
    "                           n_estimators = 30,\n",
    "                           monotone_constraints = mono_const,\n",
    "                           rate_drop = 0.1,\n",
    "                           booster = 'dart')\n",
    "fit_xgb.fit(X_train, y_train)"
   ]
  },
  {
   "cell_type": "code",
   "execution_count": 10,
   "metadata": {},
   "outputs": [
    {
     "data": {
      "text/plain": [
       "<keras.callbacks.History at 0x224556d9e70>"
      ]
     },
     "execution_count": 10,
     "metadata": {},
     "output_type": "execute_result"
    }
   ],
   "source": [
    "import keras\n",
    "from keras.layers import Dense, Flatten, Input\n",
    "from keras import Model\n",
    "import keras.backend as K\n",
    "\n",
    "K.clear_session()\n",
    "input_layer = Input((X_train.shape[1], ))\n",
    "x = input_layer\n",
    "x = Dense(16, activation='relu')(x)\n",
    "x = Dense(8, activation='tanh')(x)\n",
    "x = Dense(1)(x) # No activation means linear activation: f(x) = x\n",
    "output_layer = x\n",
    "model = Model(input_layer, output_layer)\n",
    "model.compile(\n",
    "    loss='mse',\n",
    "    optimizer='RMSprop',\n",
    "    metrics=['mae']\n",
    ")\n",
    "model.fit(\n",
    "    X_train, y_train,\n",
    "    epochs = 10, batch_size = 512,\n",
    "    verbose=0\n",
    ")"
   ]
  },
  {
   "cell_type": "code",
   "execution_count": 13,
   "metadata": {},
   "outputs": [
    {
     "name": "stdout",
     "output_type": "stream",
     "text": [
      "INFO:tensorflow:Assets written to: /models/fit_NN.pkl\\assets\n"
     ]
    }
   ],
   "source": [
    "# save these models so that you can use \n",
    "# fit_pen_pred = joblib.load('models/fit_pen_pred.pkl')\n",
    "# to load the models instead of re-training them\n",
    "import joblib\n",
    "joblib.dump(fit_pen_pred, 'models/fit_pen_pred.pkl')\n",
    "joblib.dump(fit_tree, 'models/fit_tree.pkl')\n",
    "joblib.dump(fit_rf, 'models/fit_rf.pkl')\n",
    "joblib.dump(fit_xgb, 'models/fit_xgb.pkl')\n",
    "model.save('/models/fit_NN.pkl')"
   ]
  },
  {
   "cell_type": "code",
   "execution_count": 17,
   "metadata": {},
   "outputs": [
    {
     "name": "stdout",
     "output_type": "stream",
     "text": [
      "6192/6192 [==============================] - 6s 1ms/step\n"
     ]
    }
   ],
   "source": [
    "err_pen_train = fit_pen_pred.predict(X_train) - y_train\n",
    "err_tree_train = fit_tree.predict(X_train) - y_train\n",
    "err_RF_train = fit_rf.predict(X_train) - y_train\n",
    "err_XGB_train = fit_xgb.predict(X_train) - y_train\n",
    "err_NN_train = model.predict(X_train).reshape((1, -1))[0] - y_train"
   ]
  },
  {
   "cell_type": "code",
   "execution_count": 24,
   "metadata": {},
   "outputs": [
    {
     "data": {
      "text/html": [
       "<div>\n",
       "<style scoped>\n",
       "    .dataframe tbody tr th:only-of-type {\n",
       "        vertical-align: middle;\n",
       "    }\n",
       "\n",
       "    .dataframe tbody tr th {\n",
       "        vertical-align: top;\n",
       "    }\n",
       "\n",
       "    .dataframe thead th {\n",
       "        text-align: right;\n",
       "    }\n",
       "</style>\n",
       "<table border=\"1\" class=\"dataframe\">\n",
       "  <thead>\n",
       "    <tr style=\"text-align: right;\">\n",
       "      <th></th>\n",
       "      <th>Pen_reg</th>\n",
       "      <th>Tree</th>\n",
       "      <th>RF</th>\n",
       "      <th>XGB</th>\n",
       "      <th>NN</th>\n",
       "    </tr>\n",
       "  </thead>\n",
       "  <tbody>\n",
       "    <tr>\n",
       "      <th>Pen_reg</th>\n",
       "      <td>1.000000</td>\n",
       "      <td>0.997285</td>\n",
       "      <td>0.996307</td>\n",
       "      <td>0.967744</td>\n",
       "      <td>0.996733</td>\n",
       "    </tr>\n",
       "    <tr>\n",
       "      <th>Tree</th>\n",
       "      <td>0.997285</td>\n",
       "      <td>1.000000</td>\n",
       "      <td>0.996878</td>\n",
       "      <td>0.968973</td>\n",
       "      <td>0.997258</td>\n",
       "    </tr>\n",
       "    <tr>\n",
       "      <th>RF</th>\n",
       "      <td>0.996307</td>\n",
       "      <td>0.996878</td>\n",
       "      <td>1.000000</td>\n",
       "      <td>0.969068</td>\n",
       "      <td>0.996573</td>\n",
       "    </tr>\n",
       "    <tr>\n",
       "      <th>XGB</th>\n",
       "      <td>0.967744</td>\n",
       "      <td>0.968973</td>\n",
       "      <td>0.969068</td>\n",
       "      <td>1.000000</td>\n",
       "      <td>0.969135</td>\n",
       "    </tr>\n",
       "    <tr>\n",
       "      <th>NN</th>\n",
       "      <td>0.996733</td>\n",
       "      <td>0.997258</td>\n",
       "      <td>0.996573</td>\n",
       "      <td>0.969135</td>\n",
       "      <td>1.000000</td>\n",
       "    </tr>\n",
       "  </tbody>\n",
       "</table>\n",
       "</div>"
      ],
      "text/plain": [
       "          Pen_reg      Tree        RF       XGB        NN\n",
       "Pen_reg  1.000000  0.997285  0.996307  0.967744  0.996733\n",
       "Tree     0.997285  1.000000  0.996878  0.968973  0.997258\n",
       "RF       0.996307  0.996878  1.000000  0.969068  0.996573\n",
       "XGB      0.967744  0.968973  0.969068  1.000000  0.969135\n",
       "NN       0.996733  0.997258  0.996573  0.969135  1.000000"
      ]
     },
     "execution_count": 24,
     "metadata": {},
     "output_type": "execute_result"
    }
   ],
   "source": [
    "E = pd.DataFrame([err_pen_train, err_tree_train, err_RF_train, err_XGB_train, err_NN_train], \n",
    "                 index=['Pen_reg', 'Tree', 'RF', 'XGB', 'NN']).T\n",
    "E.corr()"
   ]
  },
  {
   "cell_type": "markdown",
   "metadata": {},
   "source": [
    "As is shown by the correlation matrix, the models fail to generate heterogeneity in their predictions. The minimum correlation (though above 95%!) is obtained by the boosted tree models. Below, we compare the training accuracy of models by computing the average absolute value of errors."
   ]
  },
  {
   "cell_type": "code",
   "execution_count": 25,
   "metadata": {},
   "outputs": [
    {
     "data": {
      "text/plain": [
       "Pen_reg    0.083459\n",
       "Tree       0.083689\n",
       "RF         0.083390\n",
       "XGB        0.083461\n",
       "NN         0.084237\n",
       "dtype: float64"
      ]
     },
     "execution_count": 25,
     "metadata": {},
     "output_type": "execute_result"
    }
   ],
   "source": [
    "E.abs().mean()"
   ]
  },
  {
   "cell_type": "markdown",
   "metadata": {},
   "source": [
    "The best performing ML engine is the random forest. The NN model (in Python here) is the worst by far. Below we compute the optimal (non-constrained) weights for the combination of models."
   ]
  },
  {
   "cell_type": "code",
   "execution_count": 30,
   "metadata": {},
   "outputs": [
    {
     "data": {
      "text/plain": [
       "array([-0.5353979 , -0.52706913,  0.26167191,  1.75265629,  0.04813884])"
      ]
     },
     "execution_count": 30,
     "metadata": {},
     "output_type": "execute_result"
    }
   ],
   "source": [
    "w_ensemble = np.linalg.inv(np.dot(E.T, E)).dot(np.ones(5))\n",
    "w_ensemble /= w_ensemble.sum()\n",
    "w_ensemble"
   ]
  },
  {
   "cell_type": "markdown",
   "metadata": {},
   "source": [
    "Because of the high correlations, the optimal weights are not balanced and diversified: they load heavily on the XGB and RF learner and \"short\" a few models in order to compensate. The model with the largest negative weights (`pen_reg`) has a very high correlation with the XGB algorithm.\n",
    "\n",
    "Note that the weights are of course computed with **training errors**. The optimal combination is then tested on the testing sample. Below, we compute out-of-sample (testing) errors and their average absolute value."
   ]
  },
  {
   "cell_type": "code",
   "execution_count": 31,
   "metadata": {},
   "outputs": [
    {
     "name": "stdout",
     "output_type": "stream",
     "text": [
      "2194/2194 [==============================] - 2s 1ms/step\n"
     ]
    }
   ],
   "source": [
    "y_test = test_sample['R1M_Usd']\n",
    "X_test = test_sample[features]\n",
    "\n",
    "err_pen_test = fit_pen_pred.predict(X_test) - y_test\n",
    "err_tree_test = fit_tree.predict(X_test) - y_test\n",
    "err_RF_test = fit_rf.predict(X_test) - y_test\n",
    "err_XGB_test = fit_xgb.predict(X_test) - y_test\n",
    "err_NN_test = model.predict(X_test).reshape((1, -1))[0] - y_test"
   ]
  },
  {
   "cell_type": "code",
   "execution_count": 33,
   "metadata": {},
   "outputs": [
    {
     "data": {
      "text/plain": [
       "Pen_reg    0.066182\n",
       "Tree       0.066911\n",
       "RF         0.067125\n",
       "XGB        0.068281\n",
       "NN         0.067351\n",
       "dtype: float64"
      ]
     },
     "execution_count": 33,
     "metadata": {},
     "output_type": "execute_result"
    }
   ],
   "source": [
    "E_test = pd.DataFrame([err_pen_test, err_tree_test, err_RF_test, err_XGB_test, err_NN_test], index=['Pen_reg', 'Tree', 'RF', 'XGB', 'NN']).T\n",
    "E_test.abs().mean()"
   ]
  },
  {
   "cell_type": "markdown",
   "metadata": {},
   "source": [
    "In this case the boosted tree model is the worst performing algorithm while simple models (regression and simple tree) are the ones that fare the best. The most naive combination is the simple average of model and predictions."
   ]
  },
  {
   "cell_type": "code",
   "execution_count": 35,
   "metadata": {},
   "outputs": [
    {
     "data": {
      "text/plain": [
       "0.0666100436921366"
      ]
     },
     "execution_count": 35,
     "metadata": {},
     "output_type": "execute_result"
    }
   ],
   "source": [
    "err_EW_test = E_test.mean(axis=1)\n",
    "err_EW_test.abs().mean()"
   ]
  },
  {
   "cell_type": "markdown",
   "metadata": {},
   "source": [
    "Because the errors are very correlated, the equally weighted combination of forecasts yields an average error which lies 'in the middle' of individual errors. The diversification benefits are too small. Let us now test the 'optimal' combination $\\textbf{w}^*=\\frac{(\\textbf{E}'\\textbf{E})^{-1}\\textbf{1}_M}{(\\textbf{1}_M'\\textbf{E}'\\textbf{E})^{-1}\\textbf{1}_M}$."
   ]
  },
  {
   "cell_type": "code",
   "execution_count": 38,
   "metadata": {},
   "outputs": [
    {
     "data": {
      "text/plain": [
       "0.0707978219972395"
      ]
     },
     "execution_count": 38,
     "metadata": {},
     "output_type": "execute_result"
    }
   ],
   "source": [
    "err_opt_test = np.dot(E_test, w_ensemble)\n",
    "np.mean(np.abs(err_opt_test))"
   ]
  },
  {
   "cell_type": "markdown",
   "metadata": {},
   "source": [
    "Again, the result is disappointing because of the lack of diversification across models. The correlations between errors are high not only on the training sample, but also on the testing sample, as shown below."
   ]
  },
  {
   "cell_type": "code",
   "execution_count": 39,
   "metadata": {},
   "outputs": [
    {
     "data": {
      "text/html": [
       "<div>\n",
       "<style scoped>\n",
       "    .dataframe tbody tr th:only-of-type {\n",
       "        vertical-align: middle;\n",
       "    }\n",
       "\n",
       "    .dataframe tbody tr th {\n",
       "        vertical-align: top;\n",
       "    }\n",
       "\n",
       "    .dataframe thead th {\n",
       "        text-align: right;\n",
       "    }\n",
       "</style>\n",
       "<table border=\"1\" class=\"dataframe\">\n",
       "  <thead>\n",
       "    <tr style=\"text-align: right;\">\n",
       "      <th></th>\n",
       "      <th>Pen_reg</th>\n",
       "      <th>Tree</th>\n",
       "      <th>RF</th>\n",
       "      <th>XGB</th>\n",
       "      <th>NN</th>\n",
       "    </tr>\n",
       "  </thead>\n",
       "  <tbody>\n",
       "    <tr>\n",
       "      <th>Pen_reg</th>\n",
       "      <td>1.000000</td>\n",
       "      <td>0.997301</td>\n",
       "      <td>0.996819</td>\n",
       "      <td>0.973308</td>\n",
       "      <td>0.996442</td>\n",
       "    </tr>\n",
       "    <tr>\n",
       "      <th>Tree</th>\n",
       "      <td>0.997301</td>\n",
       "      <td>1.000000</td>\n",
       "      <td>0.997636</td>\n",
       "      <td>0.975154</td>\n",
       "      <td>0.997548</td>\n",
       "    </tr>\n",
       "    <tr>\n",
       "      <th>RF</th>\n",
       "      <td>0.996819</td>\n",
       "      <td>0.997636</td>\n",
       "      <td>1.000000</td>\n",
       "      <td>0.975311</td>\n",
       "      <td>0.997167</td>\n",
       "    </tr>\n",
       "    <tr>\n",
       "      <th>XGB</th>\n",
       "      <td>0.973308</td>\n",
       "      <td>0.975154</td>\n",
       "      <td>0.975311</td>\n",
       "      <td>1.000000</td>\n",
       "      <td>0.975152</td>\n",
       "    </tr>\n",
       "    <tr>\n",
       "      <th>NN</th>\n",
       "      <td>0.996442</td>\n",
       "      <td>0.997548</td>\n",
       "      <td>0.997167</td>\n",
       "      <td>0.975152</td>\n",
       "      <td>1.000000</td>\n",
       "    </tr>\n",
       "  </tbody>\n",
       "</table>\n",
       "</div>"
      ],
      "text/plain": [
       "          Pen_reg      Tree        RF       XGB        NN\n",
       "Pen_reg  1.000000  0.997301  0.996819  0.973308  0.996442\n",
       "Tree     0.997301  1.000000  0.997636  0.975154  0.997548\n",
       "RF       0.996819  0.997636  1.000000  0.975311  0.997167\n",
       "XGB      0.973308  0.975154  0.975311  1.000000  0.975152\n",
       "NN       0.996442  0.997548  0.997167  0.975152  1.000000"
      ]
     },
     "execution_count": 39,
     "metadata": {},
     "output_type": "execute_result"
    }
   ],
   "source": [
    "E_test.corr()"
   ]
  },
  {
   "cell_type": "markdown",
   "metadata": {},
   "source": [
    "The leverage from the optimal solution only exacerbates the problem and underperforms the heuristic uniform combination. We end this section with the constrained formulation of Breiman (1996) with the `CVXPY` package. If we write $\\boldsymbol{\\Sigma}$ for the covariance matrix of errors, we seek\n",
    "$$\\mathbf{w}^*=\\underset{\\mathbf{w}}{\\text{argmin}} \\ \\mathbf{w}'\\mathbf{\\Sigma}\\mathbf{w}, \\quad \\mathbf{1}'\\mathbf{w}=1, \\quad w_i\\ge 0$$\n",
    "The constraints will be handled as:\n",
    "\n",
    "\\begin{align*}\n",
    "\\mathbf{A} \\mathbf{w}=\\begin{bmatrix} \n",
    "1 & 1 & 1 \\\\\n",
    "1 & 0 & 0 \\\\\n",
    "0 & 1 & 0 \\\\\n",
    "0 & 0 & 1 \\end{bmatrix} \\mathbf{w} \\hspace{9mm} \\text{ compared to} \\hspace{9mm} \\mathbf{b}= \\begin{bmatrix} 1 \\\\ 0 \\\\ 0 \\\\ 0 \\end{bmatrix}\n",
    "\\end{align*}"
   ]
  },
  {
   "cell_type": "markdown",
   "metadata": {},
   "source": [
    "where the first line will be an equality (weights sum to one) and the last three will be inequalities (weights are all positive)."
   ]
  },
  {
   "cell_type": "code",
   "execution_count": 45,
   "metadata": {},
   "outputs": [
    {
     "data": {
      "text/plain": [
       "array([4.16114830e-09, 2.60512423e-09, 2.67502324e-09, 9.99999988e-01,\n",
       "       2.57353829e-09])"
      ]
     },
     "execution_count": 45,
     "metadata": {},
     "output_type": "execute_result"
    }
   ],
   "source": [
    "import cvxpy as cp\n",
    "\n",
    "Sigma = np.dot(E.T, E)\n",
    "n_mods = Sigma.shape[1]\n",
    "\n",
    "# Ensure non-negativity for weights\n",
    "weights = cp.Variable(shape=(n_mods, ), nonneg=True)\n",
    "# The weights should sum to 1\n",
    "constraints = [np.ones(n_mods) @ weights == 1.0]\n",
    "# define the problem as a quadratic form\n",
    "problem = cp.Problem(cp.Minimize(cp.quad_form(weights, Sigma)),\n",
    "                     constraints)\n",
    "# You may also solve the problem with a open-source solver like `ECOS`\n",
    "problem.solve(solver='MOSEK')\n",
    "weights.value"
   ]
  },
  {
   "cell_type": "markdown",
   "metadata": {},
   "source": [
    "Compared to the unconstrained solution, the weights are sparse and concentrated in one or two models, usually those with small training sample errors."
   ]
  },
  {
   "cell_type": "markdown",
   "metadata": {},
   "source": [
    "## Stacked Ensembles\n",
    "\n",
    "### Two-stage Training\n",
    "\n",
    "**Stacked ensembles** are a natural generalization of linear ensembles. The idea of generalizing linear ensembles goes back at least to Wolpert (1992b). In the general casse, the training is performed in two stages:\n",
    "1. First, train $M$ models independently, yielding the predictions $\\tilde{y}_{i,m}$ for instance $i$ and model $m$.\n",
    "2. The second step is to consider the output of the trained models as input for a new level of ML optimization, i.e., train a new learner $h$ for $\\breve{y}_i=h(\\tilde{y}_{i,1},\\dots,\\tilde{y}_{i,M})$.\n",
    "\n",
    "Linear ensembles are of course stacked ensembles in which the second layer is a linear regression.\n",
    "\n",
    "The same techniques are then applied to minimize the error between the true values $y_i$ and the predicted ones $\\breve{y}_i$.\n",
    "\n",
    "![FIGURE 1  .1: Scheme of stacked ensembles.](D:/mlfactor-python/images/figure11-1.png)"
   ]
  },
  {
   "cell_type": "markdown",
   "metadata": {},
   "source": [
    "### Codes and Results\n",
    "\n",
    "Below, we create a low-dimensional neural network which takes in the individual predictions of each model and compiles them into a synthetic forecast."
   ]
  },
  {
   "cell_type": "code",
   "execution_count": 69,
   "metadata": {},
   "outputs": [
    {
     "name": "stdout",
     "output_type": "stream",
     "text": [
      "Model: \"model\"\n",
      "_________________________________________________________________\n",
      " Layer (type)                Output Shape              Param #   \n",
      "=================================================================\n",
      " input_1 (InputLayer)        [(None, 5)]               0         \n",
      "                                                                 \n",
      " dense (Dense)               (None, 8)                 48        \n",
      "                                                                 \n",
      " dense_1 (Dense)             (None, 4)                 36        \n",
      "                                                                 \n",
      " dense_2 (Dense)             (None, 1)                 5         \n",
      "                                                                 \n",
      "=================================================================\n",
      "Total params: 89\n",
      "Trainable params: 89\n",
      "Non-trainable params: 0\n",
      "_________________________________________________________________\n"
     ]
    }
   ],
   "source": [
    "K.clear_session()\n",
    "input_layer = Input((n_mods, ))\n",
    "x = input_layer\n",
    "x = Dense(8, activation='relu')(x)\n",
    "x = Dense(4, activation='tanh')(x)\n",
    "x = Dense(1)(x) # No activation means linear activation: f(x) = x\n",
    "output_layer = x\n",
    "model_stack = Model(input_layer, output_layer)\n",
    "model_stack.compile(\n",
    "    loss='mse',\n",
    "    optimizer='RMSprop',\n",
    "    metrics=['mae']\n",
    ")\n",
    "model_stack.summary()"
   ]
  },
  {
   "cell_type": "code",
   "execution_count": 70,
   "metadata": {},
   "outputs": [
    {
     "name": "stdout",
     "output_type": "stream",
     "text": [
      "Epoch 1/12\n",
      "387/387 [==============================] - 2s 4ms/step - loss: 0.0280 - mae: 0.0837 - val_loss: 0.0371 - val_mae: 0.0679\n",
      "Epoch 2/12\n",
      "387/387 [==============================] - 1s 3ms/step - loss: 0.0273 - mae: 0.0837 - val_loss: 0.0374 - val_mae: 0.0684\n",
      "Epoch 3/12\n",
      "387/387 [==============================] - 1s 3ms/step - loss: 0.0269 - mae: 0.0837 - val_loss: 0.0376 - val_mae: 0.0684\n",
      "Epoch 4/12\n",
      "387/387 [==============================] - 1s 3ms/step - loss: 0.0267 - mae: 0.0837 - val_loss: 0.0376 - val_mae: 0.0682\n",
      "Epoch 5/12\n",
      "387/387 [==============================] - 1s 3ms/step - loss: 0.0266 - mae: 0.0836 - val_loss: 0.0379 - val_mae: 0.0688\n",
      "Epoch 6/12\n",
      "387/387 [==============================] - 1s 3ms/step - loss: 0.0265 - mae: 0.0837 - val_loss: 0.0379 - val_mae: 0.0687\n",
      "Epoch 7/12\n",
      "387/387 [==============================] - 1s 3ms/step - loss: 0.0263 - mae: 0.0837 - val_loss: 0.0378 - val_mae: 0.0683\n",
      "Epoch 8/12\n",
      "387/387 [==============================] - 1s 3ms/step - loss: 0.0264 - mae: 0.0836 - val_loss: 0.0378 - val_mae: 0.0683\n",
      "Epoch 9/12\n",
      "387/387 [==============================] - 1s 3ms/step - loss: 0.0264 - mae: 0.0836 - val_loss: 0.0379 - val_mae: 0.0685\n",
      "Epoch 10/12\n",
      "387/387 [==============================] - 1s 3ms/step - loss: 0.0263 - mae: 0.0837 - val_loss: 0.0379 - val_mae: 0.0684\n",
      "Epoch 11/12\n",
      "387/387 [==============================] - 1s 3ms/step - loss: 0.0263 - mae: 0.0836 - val_loss: 0.0379 - val_mae: 0.0686\n",
      "Epoch 12/12\n",
      "387/387 [==============================] - 1s 3ms/step - loss: 0.0262 - mae: 0.0837 - val_loss: 0.0379 - val_mae: 0.0683\n"
     ]
    }
   ],
   "source": [
    "model_names = ['Pen_reg', 'Tree', 'RF', 'XGB', 'NN']\n",
    "# train preds\n",
    "y_tilde = E + pd.DataFrame([y_train] * n_mods, index=model_names).T\n",
    "# testing preds\n",
    "y_test = E_test + pd.DataFrame([test_sample['R1M_Usd']] * n_mods, index=model_names).T\n",
    "fit_NN_stack = model_stack.fit(y_tilde, y_train, \n",
    "                               epochs=12, batch_size=512,\n",
    "                               validation_data=(y_test, test_sample['R1M_Usd']))"
   ]
  },
  {
   "cell_type": "code",
   "execution_count": 71,
   "metadata": {},
   "outputs": [
    {
     "data": {
      "image/png": "[encoded data removed]",
      "text/plain": [
       "<Figure size 1000x500 with 2 Axes>"
      ]
     },
     "metadata": {
      "needs_background": "light"
     },
     "output_type": "display_data"
    }
   ],
   "source": [
    "from plot_keras_history import show_history\n",
    "show_history(fit_NN_stack)"
   ]
  },
  {
   "cell_type": "markdown",
   "metadata": {},
   "source": [
    "The performance of the ensemble is again disappointing: the learning curve is flat, hence the rounds of back-propagation are useless. The training adds little value which means that the new overarching layer of ML does not enhance the original predictions. Again, this is because all ML engines seem to be capturing the same patterns and both their linear and non-linear combinations fail to improve their performance."
   ]
  },
  {
   "cell_type": "markdown",
   "metadata": {},
   "source": [
    "## Extensions\n",
    "\n",
    "### Exogeneous Variables\n",
    "\n",
    "In a financial context, macro-economic indicators could add value to the process. It's possible some models can perform better by introducing a flavor of **economic-driven conditionality** in the predictions.\n",
    "\n",
    "Adding macro-variables to the set of predictors (here, predictions) $\\tilde{y}_{i,m}$ could seem like one way to achieve this. However, this would amount to mix predicted values with (possibly scaled) economic indicators, which would not make much sense.\n",
    "\n",
    "One alternative outside the perimeter of ensembles is to train *simple trees* on a set of macro-economic indicators. If the labels are the (possibly absolute) errors stemming from the original predictions, then the trees will create clusters of homogeneous error values. This will hint towards which conditions lead to best or worst forecasts.\n",
    "\n",
    "We will test this idea below using aggregate data from the Federal Reserve of Saint Louis. A simple downloader in Python is the `pandas_datareader` package and we download and format the data next. `CPIAUCSL` is a code for consumer price index and `T10Y2YM` is a code for the term spread (10Y minus 2Y)."
   ]
  },
  {
   "cell_type": "code",
   "execution_count": 81,
   "metadata": {},
   "outputs": [
    {
     "data": {
      "text/html": [
       "<div>\n",
       "<style scoped>\n",
       "    .dataframe tbody tr th:only-of-type {\n",
       "        vertical-align: middle;\n",
       "    }\n",
       "\n",
       "    .dataframe tbody tr th {\n",
       "        vertical-align: top;\n",
       "    }\n",
       "\n",
       "    .dataframe thead th {\n",
       "        text-align: right;\n",
       "    }\n",
       "</style>\n",
       "<table border=\"1\" class=\"dataframe\">\n",
       "  <thead>\n",
       "    <tr style=\"text-align: right;\">\n",
       "      <th></th>\n",
       "      <th>CPIAUCSL</th>\n",
       "      <th>termspread</th>\n",
       "      <th>inflation</th>\n",
       "    </tr>\n",
       "    <tr>\n",
       "      <th>DATE</th>\n",
       "      <th></th>\n",
       "      <th></th>\n",
       "      <th></th>\n",
       "    </tr>\n",
       "  </thead>\n",
       "  <tbody>\n",
       "    <tr>\n",
       "      <th>2010-01-01</th>\n",
       "      <td>217.488</td>\n",
       "      <td>2.80</td>\n",
       "      <td>NaN</td>\n",
       "    </tr>\n",
       "    <tr>\n",
       "      <th>2010-02-01</th>\n",
       "      <td>217.281</td>\n",
       "      <td>2.83</td>\n",
       "      <td>-0.000952</td>\n",
       "    </tr>\n",
       "    <tr>\n",
       "      <th>2010-03-01</th>\n",
       "      <td>217.353</td>\n",
       "      <td>2.77</td>\n",
       "      <td>0.000331</td>\n",
       "    </tr>\n",
       "    <tr>\n",
       "      <th>2010-04-01</th>\n",
       "      <td>217.403</td>\n",
       "      <td>2.79</td>\n",
       "      <td>0.000230</td>\n",
       "    </tr>\n",
       "    <tr>\n",
       "      <th>2010-05-01</th>\n",
       "      <td>217.290</td>\n",
       "      <td>2.59</td>\n",
       "      <td>-0.000520</td>\n",
       "    </tr>\n",
       "    <tr>\n",
       "      <th>...</th>\n",
       "      <td>...</td>\n",
       "      <td>...</td>\n",
       "      <td>...</td>\n",
       "    </tr>\n",
       "    <tr>\n",
       "      <th>2021-08-01</th>\n",
       "      <td>272.870</td>\n",
       "      <td>1.06</td>\n",
       "      <td>0.004070</td>\n",
       "    </tr>\n",
       "    <tr>\n",
       "      <th>2021-09-01</th>\n",
       "      <td>274.028</td>\n",
       "      <td>1.13</td>\n",
       "      <td>0.004244</td>\n",
       "    </tr>\n",
       "    <tr>\n",
       "      <th>2021-10-01</th>\n",
       "      <td>276.522</td>\n",
       "      <td>1.19</td>\n",
       "      <td>0.009101</td>\n",
       "    </tr>\n",
       "    <tr>\n",
       "      <th>2021-11-01</th>\n",
       "      <td>278.711</td>\n",
       "      <td>1.05</td>\n",
       "      <td>0.007916</td>\n",
       "    </tr>\n",
       "    <tr>\n",
       "      <th>2021-12-01</th>\n",
       "      <td>280.887</td>\n",
       "      <td>0.78</td>\n",
       "      <td>0.007807</td>\n",
       "    </tr>\n",
       "  </tbody>\n",
       "</table>\n",
       "<p>144 rows × 3 columns</p>\n",
       "</div>"
      ],
      "text/plain": [
       "            CPIAUCSL  termspread  inflation\n",
       "DATE                                       \n",
       "2010-01-01   217.488        2.80        NaN\n",
       "2010-02-01   217.281        2.83  -0.000952\n",
       "2010-03-01   217.353        2.77   0.000331\n",
       "2010-04-01   217.403        2.79   0.000230\n",
       "2010-05-01   217.290        2.59  -0.000520\n",
       "...              ...         ...        ...\n",
       "2021-08-01   272.870        1.06   0.004070\n",
       "2021-09-01   274.028        1.13   0.004244\n",
       "2021-10-01   276.522        1.19   0.009101\n",
       "2021-11-01   278.711        1.05   0.007916\n",
       "2021-12-01   280.887        0.78   0.007807\n",
       "\n",
       "[144 rows x 3 columns]"
      ]
     },
     "execution_count": 81,
     "metadata": {},
     "output_type": "execute_result"
    }
   ],
   "source": [
    "import pandas_datareader as pdr\n",
    "fred_df = pdr.DataReader(['CPIAUCSL','T10Y2YM'], 'fred', \"2010-01-01\", \"2021-12-31\")\n",
    "fred_df['inflation'] = fred_df['CPIAUCSL'] / fred_df['CPIAUCSL'].shift(1) - 1\n",
    "fred_df = fred_df.rename(columns={'T10Y2YM': 'termspread'})\n",
    "fred_df"
   ]
  },
  {
   "cell_type": "code",
   "execution_count": 99,
   "metadata": {},
   "outputs": [
    {
     "name": "stderr",
     "output_type": "stream",
     "text": [
      "C:\\Users\\SamuelZhang\\AppData\\Local\\Temp\\ipykernel_43564\\3905439756.py:2: SettingWithCopyWarning: \n",
      "A value is trying to be set on a copy of a slice from a DataFrame.\n",
      "Try using .loc[row_indexer,col_indexer] = value instead\n",
      "\n",
      "See the caveats in the documentation: https://pandas.pydata.org/pandas-docs/stable/user_guide/indexing.html#returning-a-view-versus-a-copy\n",
      "  test_sample['Index'] = test_sample['date'].apply(lambda x: x + pd.DateOffset(days=1) + pd.DateOffset(months=-1))\n"
     ]
    },
    {
     "data": {
      "text/html": [
       "<div>\n",
       "<style scoped>\n",
       "    .dataframe tbody tr th:only-of-type {\n",
       "        vertical-align: middle;\n",
       "    }\n",
       "\n",
       "    .dataframe tbody tr th {\n",
       "        vertical-align: top;\n",
       "    }\n",
       "\n",
       "    .dataframe thead th {\n",
       "        text-align: right;\n",
       "    }\n",
       "</style>\n",
       "<table border=\"1\" class=\"dataframe\">\n",
       "  <thead>\n",
       "    <tr style=\"text-align: right;\">\n",
       "      <th></th>\n",
       "      <th>date</th>\n",
       "      <th>Index</th>\n",
       "      <th>CPIAUCSL</th>\n",
       "      <th>termspread</th>\n",
       "      <th>inflation</th>\n",
       "      <th>err_NN_test</th>\n",
       "    </tr>\n",
       "  </thead>\n",
       "  <tbody>\n",
       "    <tr>\n",
       "      <th>168</th>\n",
       "      <td>2014-01-31</td>\n",
       "      <td>2014-01-01</td>\n",
       "      <td>235.288</td>\n",
       "      <td>2.47</td>\n",
       "      <td>0.002424</td>\n",
       "      <td>-0.162756</td>\n",
       "    </tr>\n",
       "    <tr>\n",
       "      <th>169</th>\n",
       "      <td>2014-02-28</td>\n",
       "      <td>2014-02-01</td>\n",
       "      <td>235.547</td>\n",
       "      <td>2.38</td>\n",
       "      <td>0.001101</td>\n",
       "      <td>0.061890</td>\n",
       "    </tr>\n",
       "    <tr>\n",
       "      <th>170</th>\n",
       "      <td>2014-03-31</td>\n",
       "      <td>2014-03-01</td>\n",
       "      <td>236.028</td>\n",
       "      <td>2.32</td>\n",
       "      <td>0.002042</td>\n",
       "      <td>-0.025036</td>\n",
       "    </tr>\n",
       "    <tr>\n",
       "      <th>171</th>\n",
       "      <td>2014-04-30</td>\n",
       "      <td>2014-04-01</td>\n",
       "      <td>236.468</td>\n",
       "      <td>2.29</td>\n",
       "      <td>0.001864</td>\n",
       "      <td>-0.095926</td>\n",
       "    </tr>\n",
       "    <tr>\n",
       "      <th>172</th>\n",
       "      <td>2014-05-31</td>\n",
       "      <td>2014-05-01</td>\n",
       "      <td>236.918</td>\n",
       "      <td>2.17</td>\n",
       "      <td>0.001903</td>\n",
       "      <td>-0.092876</td>\n",
       "    </tr>\n",
       "    <tr>\n",
       "      <th>...</th>\n",
       "      <td>...</td>\n",
       "      <td>...</td>\n",
       "      <td>...</td>\n",
       "      <td>...</td>\n",
       "      <td>...</td>\n",
       "      <td>...</td>\n",
       "    </tr>\n",
       "    <tr>\n",
       "      <th>268331</th>\n",
       "      <td>2018-08-31</td>\n",
       "      <td>2018-08-01</td>\n",
       "      <td>251.663</td>\n",
       "      <td>0.25</td>\n",
       "      <td>0.001787</td>\n",
       "      <td>-0.044632</td>\n",
       "    </tr>\n",
       "    <tr>\n",
       "      <th>268332</th>\n",
       "      <td>2018-09-30</td>\n",
       "      <td>2018-09-01</td>\n",
       "      <td>252.182</td>\n",
       "      <td>0.23</td>\n",
       "      <td>0.002062</td>\n",
       "      <td>0.264800</td>\n",
       "    </tr>\n",
       "    <tr>\n",
       "      <th>268333</th>\n",
       "      <td>2018-10-31</td>\n",
       "      <td>2018-10-01</td>\n",
       "      <td>252.772</td>\n",
       "      <td>0.29</td>\n",
       "      <td>0.002340</td>\n",
       "      <td>-0.014334</td>\n",
       "    </tr>\n",
       "    <tr>\n",
       "      <th>268334</th>\n",
       "      <td>2018-11-30</td>\n",
       "      <td>2018-11-01</td>\n",
       "      <td>252.594</td>\n",
       "      <td>0.26</td>\n",
       "      <td>-0.000704</td>\n",
       "      <td>0.128499</td>\n",
       "    </tr>\n",
       "    <tr>\n",
       "      <th>268335</th>\n",
       "      <td>2018-12-31</td>\n",
       "      <td>2018-12-01</td>\n",
       "      <td>252.767</td>\n",
       "      <td>0.15</td>\n",
       "      <td>0.000685</td>\n",
       "      <td>-0.217466</td>\n",
       "    </tr>\n",
       "  </tbody>\n",
       "</table>\n",
       "<p>70208 rows × 6 columns</p>\n",
       "</div>"
      ],
      "text/plain": [
       "             date      Index  CPIAUCSL  termspread  inflation  err_NN_test\n",
       "168    2014-01-31 2014-01-01   235.288        2.47   0.002424    -0.162756\n",
       "169    2014-02-28 2014-02-01   235.547        2.38   0.001101     0.061890\n",
       "170    2014-03-31 2014-03-01   236.028        2.32   0.002042    -0.025036\n",
       "171    2014-04-30 2014-04-01   236.468        2.29   0.001864    -0.095926\n",
       "172    2014-05-31 2014-05-01   236.918        2.17   0.001903    -0.092876\n",
       "...           ...        ...       ...         ...        ...          ...\n",
       "268331 2018-08-31 2018-08-01   251.663        0.25   0.001787    -0.044632\n",
       "268332 2018-09-30 2018-09-01   252.182        0.23   0.002062     0.264800\n",
       "268333 2018-10-31 2018-10-01   252.772        0.29   0.002340    -0.014334\n",
       "268334 2018-11-30 2018-11-01   252.594        0.26  -0.000704     0.128499\n",
       "268335 2018-12-31 2018-12-01   252.767        0.15   0.000685    -0.217466\n",
       "\n",
       "[70208 rows x 6 columns]"
      ]
     },
     "execution_count": 99,
     "metadata": {},
     "output_type": "execute_result"
    }
   ],
   "source": [
    "# The first day of the month\n",
    "test_sample['Index'] = test_sample['date'].apply(lambda x: x + pd.DateOffset(days=1) + pd.DateOffset(months=-1))\n",
    "\n",
    "ens_data = pd.merge(test_sample[['date', 'Index']], fred_df, left_on='Index', right_index=True, how='left')\n",
    "ens_data['err_NN_test'] = err_NN_test\n",
    "ens_data"
   ]
  },
  {
   "cell_type": "markdown",
   "metadata": {},
   "source": [
    "We can now build a tree that tries to explain the accuracy of models as a function of macro-variables."
   ]
  },
  {
   "cell_type": "code",
   "execution_count": 115,
   "metadata": {},
   "outputs": [
    {
     "data": {
      "image/png": "[encoded data removed]",
      "text/plain": [
       "<Figure size 648x432 with 1 Axes>"
      ]
     },
     "metadata": {
      "needs_background": "light"
     },
     "output_type": "display_data"
    }
   ],
   "source": [
    "from sklearn.tree import DecisionTreeRegressor, plot_tree\n",
    "import matplotlib.pyplot as plt\n",
    "\n",
    "fit_ens = DecisionTreeRegressor(ccp_alpha=0.00001, max_depth=2)\n",
    "fit_ens.fit(ens_data[['inflation', 'termspread']], ens_data['err_NN_test'].abs())\n",
    "plt.figure(figsize=(9, 6))\n",
    "plot_tree(fit_ens, feature_names=['inflation', 'termspread'], proportion=True)\n",
    "plt.show()"
   ]
  },
  {
   "cell_type": "markdown",
   "metadata": {},
   "source": [
    "The tree creates clusters with homogeneous values of absolute errors. One big cluster gathers 80.5% of the predictions (the rightmost one) and is the one with the smallest average. It corresponds to the periods when the termspread is greater than 0.335 (in percentage points). \n",
    "The second layers of splits are determined according to the level of inflation. If the latter smaller than 0.001, the mean absolute error is about 12%. If not, the value is about 8%.\n",
    "\n",
    "This indicates that when the term spread is low and inflation negative, the model's predictions are not trustworthy because their errors have a magnitude twice as large as in other methods. Under these circumstances (which seem to be linked to a dire economic enviornment), it may be wiser not to use ML-based forecasts."
   ]
  },
  {
   "cell_type": "markdown",
   "metadata": {},
   "source": [
    "### Shrinking Inter-model Correlations\n",
    "\n",
    "As shown earlier, a major problem with ensembles arises when the first layer of predictions is *highly correlated*. There are several tricks to help reduce this correlation, but the simplest and the best is probably to *alter training samples*. If algorithms do not see the same data, they will probably infer different patterns.\n",
    "\n",
    "There are several ways to split the training data for different subsets of training samples.\n",
    "- Random splits: easy and require only the target sample size to be fixed. If the original sample has $I$ instance and the ensemble requires $M$ models, then a subsample size of $\\lfloor I/M \\rfloor$ may be too conservative especially if the training sample is not very large. In this case, $\\lfloor I/\\sqrt{M} \\rfloor$ may be a better alternative. Random forests are one example of ensembles built in random training samples.\n",
    "- Deterministic splits: easy to reproduce and their outcome does not depend on the random seed. By the nature of *factor-based* training samples, we may split between *time and assets*.\n",
    "  - Split in assets: train each model on a different set of stocks (randomly splitted or by some factor-based criterion, e.g., size, momentum, book-to-market ratio, etc.)\n",
    "  - Split in dates: each model may stand for a particular kind of market condition.\n",
    "  \n",
    "Below we train 4 models on 4 different years to see if this helps reduce the inter-model correlations. Note that the third sample works on the small subset of features, hence the sample is smaller."
   ]
  },
  {
   "cell_type": "code",
   "execution_count": 123,
   "metadata": {},
   "outputs": [],
   "source": [
    "features_short = [\"Div_Yld\", \"Eps\", \"Mkt_Cap_12M_Usd\", \"Mom_11M_Usd\", \"Ocf\", \"Pb\", \"Vol1Y_Usd\"]\n",
    "\n",
    "training_sample_2007 = training_sample[(training_sample.date >= '2007-01-01') & (training_sample.date <= '2007-12-31')]\n",
    "training_sample_2009 = training_sample[(training_sample.date >= '2009-01-01') & (training_sample.date <= '2009-12-31')]\n",
    "training_sample_2011 = training_sample[(training_sample.date >= '2011-01-01') & (training_sample.date <= '2011-12-31')][features_short + ['R1M_Usd']]\n",
    "training_sample_2013 = training_sample[(training_sample.date >= '2013-01-01') & (training_sample.date <= '2013-12-31')]"
   ]
  },
  {
   "cell_type": "markdown",
   "metadata": {},
   "source": [
    "Then, we proceed to the training of the models. We start with a penalized regression. In all predictions below, the original testing sample is used *for all models*."
   ]
  },
  {
   "cell_type": "code",
   "execution_count": 120,
   "metadata": {},
   "outputs": [],
   "source": [
    "from sklearn.linear_model import ElasticNet\n",
    "\n",
    "y_ens_2007 = training_sample_2007['R1M_Usd']\n",
    "x_ens_2007 = training_sample_2007[features]\n",
    "fit_ens_2007 = ElasticNet(alpha = 0.1, l1_ratio = 0.1).fit(x_ens_2007, y_ens_2007)\n",
    "err_ens_2007 = fit_ens_2007.predict(test_sample[features]) - test_sample['R1M_Usd']"
   ]
  },
  {
   "cell_type": "markdown",
   "metadata": {},
   "source": [
    "We continue with a random forest."
   ]
  },
  {
   "cell_type": "code",
   "execution_count": 121,
   "metadata": {},
   "outputs": [],
   "source": [
    "from sklearn.ensemble import RandomForestRegressor\n",
    "\n",
    "fit_ens_2009 = RandomForestRegressor(max_samples=4000, bootstrap=True,\n",
    "                                     n_estimators=40, max_features=30,\n",
    "                                     min_samples_leaf=100)\n",
    "fit_ens_2009.fit(training_sample_2009[features], training_sample_2009['R1M_Usd'])\n",
    "err_ens_2009 = fit_ens_2009.predict(test_sample[features]) - test_sample['R1M_Usd']"
   ]
  },
  {
   "cell_type": "markdown",
   "metadata": {},
   "source": [
    "The third model is a boosted tree."
   ]
  },
  {
   "cell_type": "code",
   "execution_count": 125,
   "metadata": {},
   "outputs": [],
   "source": [
    "from xgboost import XGBRegressor\n",
    "\n",
    "fit_ens_2011 = XGBRegressor(learning_rate = 0.4, \n",
    "                            objective = 'reg:squarederror',\n",
    "                            max_depth = 4,\n",
    "                            n_estimators = 18)\n",
    "fit_ens_2011.fit(training_sample_2011[features_short], training_sample_2011['R1M_Usd'])\n",
    "err_ens_2011 = fit_ens_2011.predict(test_sample[features_short]) - test_sample['R1M_Usd']"
   ]
  },
  {
   "cell_type": "markdown",
   "metadata": {},
   "source": [
    "Finally, the last model is a simple neural network."
   ]
  },
  {
   "cell_type": "code",
   "execution_count": 128,
   "metadata": {},
   "outputs": [
    {
     "data": {
      "text/plain": [
       "<keras.callbacks.History at 0x2268aebb4c0>"
      ]
     },
     "execution_count": 128,
     "metadata": {},
     "output_type": "execute_result"
    }
   ],
   "source": [
    "K.clear_session()\n",
    "input_layer = Input((training_sample_2013[features].shape[1], ))\n",
    "x = input_layer\n",
    "x = Dense(16, activation='relu')(x)\n",
    "x = Dense(8, activation='tanh')(x)\n",
    "x = Dense(1)(x)\n",
    "output_layer = x\n",
    "model_ens_2013 = Model(input_layer, output_layer)\n",
    "model_ens_2013.compile(\n",
    "    loss='mse',\n",
    "    optimizer='RMSprop',\n",
    "    metrics=['mae']\n",
    ")\n",
    "model_ens_2013.fit(\n",
    "    training_sample_2013[features], training_sample_2013['R1M_Usd'],\n",
    "    epochs = 9, batch_size = 512,\n",
    "    verbose = 0\n",
    ")"
   ]
  },
  {
   "cell_type": "code",
   "execution_count": 130,
   "metadata": {},
   "outputs": [
    {
     "name": "stdout",
     "output_type": "stream",
     "text": [
      "2194/2194 [==============================] - 2s 952us/step\n"
     ]
    }
   ],
   "source": [
    "err_ens_2013 = model_ens_2013.predict(test_sample[features]).reshape((1, -1))[0] - test_sample['R1M_Usd']"
   ]
  },
  {
   "cell_type": "code",
   "execution_count": 132,
   "metadata": {},
   "outputs": [
    {
     "data": {
      "text/html": [
       "<div>\n",
       "<style scoped>\n",
       "    .dataframe tbody tr th:only-of-type {\n",
       "        vertical-align: middle;\n",
       "    }\n",
       "\n",
       "    .dataframe tbody tr th {\n",
       "        vertical-align: top;\n",
       "    }\n",
       "\n",
       "    .dataframe thead th {\n",
       "        text-align: right;\n",
       "    }\n",
       "</style>\n",
       "<table border=\"1\" class=\"dataframe\">\n",
       "  <thead>\n",
       "    <tr style=\"text-align: right;\">\n",
       "      <th></th>\n",
       "      <th>err_ens_2007</th>\n",
       "      <th>err_ens_2009</th>\n",
       "      <th>err_ens_2011</th>\n",
       "      <th>err_ens_2013</th>\n",
       "    </tr>\n",
       "  </thead>\n",
       "  <tbody>\n",
       "    <tr>\n",
       "      <th>err_ens_2007</th>\n",
       "      <td>1.000000</td>\n",
       "      <td>0.980763</td>\n",
       "      <td>0.646009</td>\n",
       "      <td>0.999284</td>\n",
       "    </tr>\n",
       "    <tr>\n",
       "      <th>err_ens_2009</th>\n",
       "      <td>0.980763</td>\n",
       "      <td>1.000000</td>\n",
       "      <td>0.641003</td>\n",
       "      <td>0.983698</td>\n",
       "    </tr>\n",
       "    <tr>\n",
       "      <th>err_ens_2011</th>\n",
       "      <td>0.646009</td>\n",
       "      <td>0.641003</td>\n",
       "      <td>1.000000</td>\n",
       "      <td>0.646517</td>\n",
       "    </tr>\n",
       "    <tr>\n",
       "      <th>err_ens_2013</th>\n",
       "      <td>0.999284</td>\n",
       "      <td>0.983698</td>\n",
       "      <td>0.646517</td>\n",
       "      <td>1.000000</td>\n",
       "    </tr>\n",
       "  </tbody>\n",
       "</table>\n",
       "</div>"
      ],
      "text/plain": [
       "              err_ens_2007  err_ens_2009  err_ens_2011  err_ens_2013\n",
       "err_ens_2007      1.000000      0.980763      0.646009      0.999284\n",
       "err_ens_2009      0.980763      1.000000      0.641003      0.983698\n",
       "err_ens_2011      0.646009      0.641003      1.000000      0.646517\n",
       "err_ens_2013      0.999284      0.983698      0.646517      1.000000"
      ]
     },
     "execution_count": 132,
     "metadata": {},
     "output_type": "execute_result"
    }
   ],
   "source": [
    "E_subtraining = pd.DataFrame([err_ens_2007, err_ens_2009, err_ens_2011, err_ens_2013], \n",
    "                             index=['err_ens_2007', 'err_ens_2009', 'err_ens_2011', 'err_ens_2013']).T\n",
    "E_subtraining.corr()"
   ]
  },
  {
   "cell_type": "markdown",
   "metadata": {},
   "source": [
    "The results are overall disappointing. Only one model manages to extract patterns that are somewhat different from the other ones, resulting in a 65% correlation across the board. Neural networks (on 2013 data) and penalized regressions (2007) remain highly correlated. One possible explanation could be that the models capture mainly noise and little signal. Working with *long-term labels* like annual returns could help improve diversification across models."
   ]
  },
  {
   "cell_type": "markdown",
   "metadata": {},
   "source": [
    "## Exercise\n",
    "\n",
    "Build an integrated ensemble on top of 3 neural networks trained entirely with Keras. Each network obtains one third of predictors as input. The three networks yield a classification (yes/no or buy/sell). The overarching network aggregates the three outputs into a final decision. Evaluate its performance on the testing sample. Use the functional API."
   ]
  },
  {
   "cell_type": "code",
   "execution_count": 140,
   "metadata": {},
   "outputs": [],
   "source": [
    "training_features_1 = training_sample[features[:len(features) // 3]]\n",
    "training_features_2 = training_sample[features[len(features) // 3:len(features) // 3 * 2]]\n",
    "training_features_3 = training_sample[features[len(features) // 3 * 2:]]\n",
    "\n",
    "test_features_1 = test_sample[features[:len(features) // 3]]\n",
    "test_features_2 = test_sample[features[len(features) // 3:len(features) // 3 * 2]]\n",
    "test_features_3 = test_sample[features[len(features) // 3 * 2:]]"
   ]
  },
  {
   "cell_type": "code",
   "execution_count": 150,
   "metadata": {},
   "outputs": [
    {
     "name": "stdout",
     "output_type": "stream",
     "text": [
      "Model: \"model\"\n",
      "__________________________________________________________________________________________________\n",
      " Layer (type)                   Output Shape         Param #     Connected to                     \n",
      "==================================================================================================\n",
      " input_1 (InputLayer)           [(None, 31)]         0           []                               \n",
      "                                                                                                  \n",
      " input_2 (InputLayer)           [(None, 31)]         0           []                               \n",
      "                                                                                                  \n",
      " input_3 (InputLayer)           [(None, 31)]         0           []                               \n",
      "                                                                                                  \n",
      " dense (Dense)                  (None, 16)           512         ['input_1[0][0]']                \n",
      "                                                                                                  \n",
      " dense_3 (Dense)                (None, 16)           512         ['input_2[0][0]']                \n",
      "                                                                                                  \n",
      " dense_6 (Dense)                (None, 16)           512         ['input_3[0][0]']                \n",
      "                                                                                                  \n",
      " dense_1 (Dense)                (None, 8)            136         ['dense[0][0]']                  \n",
      "                                                                                                  \n",
      " dense_4 (Dense)                (None, 8)            136         ['dense_3[0][0]']                \n",
      "                                                                                                  \n",
      " dense_7 (Dense)                (None, 8)            136         ['dense_6[0][0]']                \n",
      "                                                                                                  \n",
      " dense_2 (Dense)                (None, 2)            18          ['dense_1[0][0]']                \n",
      "                                                                                                  \n",
      " dense_5 (Dense)                (None, 2)            18          ['dense_4[0][0]']                \n",
      "                                                                                                  \n",
      " dense_8 (Dense)                (None, 2)            18          ['dense_7[0][0]']                \n",
      "                                                                                                  \n",
      " concatenate (Concatenate)      (None, 6)            0           ['dense_2[0][0]',                \n",
      "                                                                  'dense_5[0][0]',                \n",
      "                                                                  'dense_8[0][0]']                \n",
      "                                                                                                  \n",
      " dense_9 (Dense)                (None, 2)            14          ['concatenate[0][0]']            \n",
      "                                                                                                  \n",
      "==================================================================================================\n",
      "Total params: 2,012\n",
      "Trainable params: 2,012\n",
      "Non-trainable params: 0\n",
      "__________________________________________________________________________________________________\n"
     ]
    }
   ],
   "source": [
    "from keras.layers import Dense, Flatten, Input, Concatenate\n",
    "from keras import Model\n",
    "import keras.backend as K\n",
    "\n",
    "K.clear_session()\n",
    "input_layer_1 = Input((training_features_1.shape[1], ))\n",
    "x_1 = input_layer_1\n",
    "x_1 = Dense(16, activation='relu')(x_1)\n",
    "x_1 = Dense(8, activation='relu')(x_1)\n",
    "x_1 = Dense(2, activation='softmax')(x_1)\n",
    "\n",
    "input_layer_2 = Input((training_features_2.shape[1], ))\n",
    "x_2 = input_layer_2\n",
    "x_2 = Dense(16, activation='relu')(x_2)\n",
    "x_2 = Dense(8, activation='relu')(x_2)\n",
    "x_2 = Dense(2, activation='softmax')(x_2)\n",
    "\n",
    "input_layer_3 = Input((training_features_3.shape[1], ))\n",
    "x_3 = input_layer_3\n",
    "x_3 = Dense(16, activation='relu')(x_3)\n",
    "x_3 = Dense(8, activation='relu')(x_3)\n",
    "x_3 = Dense(2, activation='softmax')(x_3)\n",
    "\n",
    "layer_concatenate = Concatenate()([x_1, x_2, x_3])\n",
    "output_layer = Dense(2, activation='softmax')(layer_concatenate)\n",
    "model_ens_exercise = Model([input_layer_1, input_layer_2, input_layer_3], output_layer)\n",
    "model_ens_exercise.summary()"
   ]
  },
  {
   "cell_type": "code",
   "execution_count": 151,
   "metadata": {},
   "outputs": [
    {
     "name": "stdout",
     "output_type": "stream",
     "text": [
      "Epoch 1/10\n",
      "387/387 [==============================] - 2s 5ms/step - loss: 0.6931 - accuracy: 0.5051 - val_loss: 0.6938 - val_accuracy: 0.4997\n",
      "Epoch 2/10\n",
      "387/387 [==============================] - 2s 4ms/step - loss: 0.6925 - accuracy: 0.5139 - val_loss: 0.6943 - val_accuracy: 0.4952\n",
      "Epoch 3/10\n",
      "387/387 [==============================] - 2s 5ms/step - loss: 0.6922 - accuracy: 0.5160 - val_loss: 0.6943 - val_accuracy: 0.4943\n",
      "Epoch 4/10\n",
      "387/387 [==============================] - 2s 4ms/step - loss: 0.6918 - accuracy: 0.5192 - val_loss: 0.6943 - val_accuracy: 0.4969\n",
      "Epoch 5/10\n",
      "387/387 [==============================] - 2s 4ms/step - loss: 0.6916 - accuracy: 0.5213 - val_loss: 0.6943 - val_accuracy: 0.5008\n",
      "Epoch 6/10\n",
      "387/387 [==============================] - 2s 4ms/step - loss: 0.6914 - accuracy: 0.5234 - val_loss: 0.6951 - val_accuracy: 0.4989\n",
      "Epoch 7/10\n",
      "387/387 [==============================] - 2s 4ms/step - loss: 0.6913 - accuracy: 0.5239 - val_loss: 0.6947 - val_accuracy: 0.4991\n",
      "Epoch 8/10\n",
      "387/387 [==============================] - 2s 4ms/step - loss: 0.6913 - accuracy: 0.5240 - val_loss: 0.6951 - val_accuracy: 0.5001\n",
      "Epoch 9/10\n",
      "387/387 [==============================] - 2s 4ms/step - loss: 0.6911 - accuracy: 0.5254 - val_loss: 0.6947 - val_accuracy: 0.5000\n",
      "Epoch 10/10\n",
      "387/387 [==============================] - 2s 5ms/step - loss: 0.6910 - accuracy: 0.5246 - val_loss: 0.6950 - val_accuracy: 0.4988\n"
     ]
    }
   ],
   "source": [
    "from keras.utils import to_categorical\n",
    "model_ens_exercise.compile(\n",
    "    loss='categorical_crossentropy', # classification task\n",
    "    optimizer='Adam',\n",
    "    metrics=['accuracy'] # use accuracy as a metric\n",
    ")\n",
    "\n",
    "NN_train_labels = to_categorical(training_sample['R1M_Usd_C'])\n",
    "NN_test_labels = to_categorical(test_sample['R1M_Usd_C'])\n",
    "fit_NN_exercise = model_ens_exercise.fit(\n",
    "    [training_features_1, training_features_2, training_features_3], NN_train_labels,\n",
    "    epochs = 10, batch_size = 512,\n",
    "    validation_data=([test_features_1, test_features_2, test_features_3], NN_test_labels)\n",
    ")"
   ]
  },
  {
   "cell_type": "code",
   "execution_count": 153,
   "metadata": {},
   "outputs": [
    {
     "data": {
      "image/png": "[encoded data removed]",
      "text/plain": [
       "<Figure size 1000x500 with 2 Axes>"
      ]
     },
     "metadata": {
      "needs_background": "light"
     },
     "output_type": "display_data"
    }
   ],
   "source": [
    "from plot_keras_history import show_history\n",
    "show_history(fit_NN_exercise)"
   ]
  },
  {
   "cell_type": "markdown",
   "metadata": {},
   "source": [
    "The result is also disappointing since the validation accuracy literally does not improve from random guess."
   ]
  },
  {
   "cell_type": "markdown",
   "metadata": {},
   "source": [
    "## Takeaways\n",
    "\n",
    "Model ensembles: an \"aggregation\" or \"averaging\" of models and predictions, **combination** of algorithms\n",
    "\n",
    "- Linear Ensembles\n",
    "  - Minimizing the total (squared) error with a linear combination of the predictions from multiple models\n",
    "  - Problem arises when the predictions are highly correlated: models *arbitrages* from each other\n",
    "  - One improvement: enforce positivity constraints on the model weights\n",
    "- Stacked Ensembles\n",
    "  - Generalization for linear ensembles\n",
    "  - Train a learner $h$ on the predictions of the previous models\n",
    "- Extensions\n",
    "  - Exogeneous variables: use macro-variables to tell under what circumstances ensembles are useful\n",
    "  - Shrinking inter-model correlations: split training samples (according to dates or features)"
   ]
  }
 ],
 "metadata": {
  "kernelspec": {
   "display_name": "Python 3.10.5 64-bit",
   "language": "python",
   "name": "python3"
  },
  "language_info": {
   "codemirror_mode": {
    "name": "ipython",
    "version": 3
   },
   "file_extension": ".py",
   "mimetype": "text/x-python",
   "name": "python",
   "nbconvert_exporter": "python",
   "pygments_lexer": "ipython3",
   "version": "3.10.5"
  },
  "orig_nbformat": 4,
  "vscode": {
   "interpreter": {
    "hash": "406fc061deb33f0aa77d26ddb85a341d574dd3281c000087856ef3a4cde589f1"
   }
  }
 },
 "nbformat": 4,
 "nbformat_minor": 2
}
